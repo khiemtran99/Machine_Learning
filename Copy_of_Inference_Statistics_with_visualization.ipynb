{
  "nbformat": 4,
  "nbformat_minor": 0,
  "metadata": {
    "colab": {
      "name": "Copy of Inference Statistics_with visualization.ipynb",
      "provenance": [],
      "collapsed_sections": [],
      "include_colab_link": true
    },
    "kernelspec": {
      "name": "python3",
      "display_name": "Python 3"
    }
  },
  "cells": [
    {
      "cell_type": "markdown",
      "metadata": {
        "id": "view-in-github",
        "colab_type": "text"
      },
      "source": [
        "<a href=\"https://colab.research.google.com/github/khiemtran99/Machine_Learning/blob/master/Copy_of_Inference_Statistics_with_visualization.ipynb\" target=\"_parent\"><img src=\"https://colab.research.google.com/assets/colab-badge.svg\" alt=\"Open In Colab\"/></a>"
      ]
    },
    {
      "cell_type": "markdown",
      "metadata": {
        "id": "FnddytUVUWBE",
        "colab_type": "text"
      },
      "source": [
        "# Inference Statistics"
      ]
    },
    {
      "cell_type": "markdown",
      "metadata": {
        "id": "_hWqwLNFUd3T",
        "colab_type": "text"
      },
      "source": [
        "Data scientists are often faced with yes-no questions about the world. Examples:\n",
        "\n",
        "* Is chocolate good for you?\n",
        "* Does coffee causes lung cancer?\n",
        "\n",
        "Whether we answer questions like these depends on the data we have. Whether chocolate or any other treatment is good for you will almost certainly have to be decided by medical experts, but an initial step consists of using data science to analyze data from studies and randomized experiments. So we try to answer such yes-no questions, basing our conclusions on random samples and empirical distributions."
      ]
    },
    {
      "cell_type": "markdown",
      "metadata": {
        "id": "MpR_EhpbVHov",
        "colab_type": "text"
      },
      "source": [
        "## Testing Hypotheses"
      ]
    },
    {
      "cell_type": "markdown",
      "metadata": {
        "id": "K-WYzCYYVNtg",
        "colab_type": "text"
      },
      "source": [
        "\n",
        "### U.S. Supreme Court, 1965: Swain vs. Alabama\n",
        "\n",
        "In the early 1960's, in Talladega County in Alabama, a black man called Robert Swain was convicted of raping a white woman and was sentenced to death. He appealed his sentence, citing among other factors the all-white jury. At the time, only men aged 21 or older were allowed to serve on juries in Talladega County. In the county, 26% of the eligible jurors were black, but there were only 8 black men among the 100 selected for the jury panel in Swain's trial. No black man was selected for the trial jury.\n",
        "\n",
        "Jury panels are supposed to be selected at random from the eligible population. Because 26% of the eligible population was black, 8 black men on a panel of 100 might seem low.\n",
        "\n",
        "The hypotheses here is that the panel was selected at random and ended up with a small number of black men just due to chance. This is called **the null hypothesis**. From a practical perspective, the null hypothesis is a hypothesis under which you can simulate data.\n",
        "\n",
        "**The alternative hypothesis**. This says that some reason other than chance made the data differ from the predictions of the model in the null hypothesis.\n",
        "\n",
        "In order to decide between the two hypothesis, we must choose a statistic that we can use to make the decision. This is called the **test statistic**.\n",
        "\n",
        "Let's go through the process in detail.\n",
        "\n",
        "\n"
      ]
    },
    {
      "cell_type": "markdown",
      "metadata": {
        "id": "hbMNVdm6jMlF",
        "colab_type": "text"
      },
      "source": [
        "#### The simulation"
      ]
    },
    {
      "cell_type": "markdown",
      "metadata": {
        "id": "OjU9BPwOpXzl",
        "colab_type": "text"
      },
      "source": [
        "We can simulate data based on the model by drawing at random from a population of whom 26% are black. Our simulation will show what a panel would look like if it were selected at random. We can then compare the results of the simulation with the composition of Robert Swain's panel.\n",
        "\n",
        "If the results of our simulation are not consistent with the composition of Swain's panel, that will be evidence against the model of random selection."
      ]
    },
    {
      "cell_type": "code",
      "metadata": {
        "id": "JIBYtH_kjuzZ",
        "colab_type": "code",
        "colab": {}
      },
      "source": [
        "import numpy as np\n",
        "import pandas as pd\n",
        "import seaborn as sns\n",
        "import matplotlib.pyplot as plt\n",
        "%matplotlib inline\n",
        "\n",
        "sns.set_style(\"whitegrid\")"
      ],
      "execution_count": null,
      "outputs": []
    },
    {
      "cell_type": "code",
      "metadata": {
        "id": "6n5zlLvYIAV4",
        "colab_type": "code",
        "colab": {}
      },
      "source": [
        "probabilities = [0.26, 0.74]\n",
        "sample_size = 100\n",
        "\n",
        "def one_sample_count():\n",
        "    \"\"\"Return number of black men in one sample of 100 men\"\"\"\n",
        "    return np.random.multinomial(sample_size, probabilities)[0]"
      ],
      "execution_count": null,
      "outputs": []
    },
    {
      "cell_type": "code",
      "metadata": {
        "id": "FAh7dvaejxiz",
        "colab_type": "code",
        "colab": {
          "base_uri": "https://localhost:8080/",
          "height": 392
        },
        "outputId": "56092e30-5e82-4f89-c11f-c45a82fa74ed"
      },
      "source": [
        "counts = []\n",
        "\n",
        "repetitions = 10000\n",
        "for i in range(repetitions):\n",
        "    counts.append(one_sample_count())\n",
        "\n",
        "# Plotting\n",
        "plt.figure(figsize=(10, 6))\n",
        "plt.hist(counts, bins=np.arange(5.5, 46.6, 1), density=True)\n",
        "plt.xlabel('Count in a random sample', fontsize=16)\n",
        "plt.show()"
      ],
      "execution_count": null,
      "outputs": [
        {
          "output_type": "display_data",
          "data": {
            "image/png": "[encoded data removed]",
            "text/plain": [
              "<Figure size 720x432 with 1 Axes>"
            ]
          },
          "metadata": {
            "tags": []
          }
        }
      ]
    },
    {
      "cell_type": "markdown",
      "metadata": {
        "id": "WWdi1ebqpA7x",
        "colab_type": "text"
      },
      "source": [
        "**Comparing the simulation and the data**"
      ]
    },
    {
      "cell_type": "code",
      "metadata": {
        "id": "lPTf3yXylPma",
        "colab_type": "code",
        "colab": {
          "base_uri": "https://localhost:8080/",
          "height": 392
        },
        "outputId": "5efde5ea-708f-4812-f4a0-070b16bca55d"
      },
      "source": [
        "# Plotting\n",
        "plt.figure(figsize=(10, 6))\n",
        "plt.hist(counts, bins=np.arange(5.5, 46.6, 1), density=True)\n",
        "plt.scatter(8, 0, c='r', s=50)\n",
        "plt.xlabel('Count in a random sample', fontsize=16)\n",
        "plt.show()"
      ],
      "execution_count": null,
      "outputs": [
        {
          "output_type": "display_data",
          "data": {
            "image/png": "[encoded data removed]",
            "text/plain": [
              "<Figure size 720x432 with 1 Axes>"
            ]
          },
          "metadata": {
            "tags": []
          }
        }
      ]
    },
    {
      "cell_type": "markdown",
      "metadata": {
        "id": "XruqmOd4pJnz",
        "colab_type": "text"
      },
      "source": [
        "The simulation shows that if we select a panel of 100 jurors at random from the eligible population, we are very unlikely to get counts of black men as low as the eight that were in Swain's jury panel. This is evidence that the model of random selection of the jurors in the panel is not consistent with the data from the panel.\n",
        "\n",
        "If the data do not support the null hypothesis, we say that the test **rejects** the null hypothesis."
      ]
    },
    {
      "cell_type": "code",
      "metadata": {
        "id": "qfaTXMXWUdJ9",
        "colab_type": "code",
        "colab": {
          "base_uri": "https://localhost:8080/",
          "height": 33
        },
        "outputId": "56435096-89d3-41a0-8ba3-f6a9418e480b"
      },
      "source": [
        "counts = np.array(counts)\n",
        "counts[counts <= 8]"
      ],
      "execution_count": null,
      "outputs": [
        {
          "output_type": "execute_result",
          "data": {
            "text/plain": [
              "array([], dtype=int64)"
            ]
          },
          "metadata": {
            "tags": []
          },
          "execution_count": 109
        }
      ]
    },
    {
      "cell_type": "markdown",
      "metadata": {
        "id": "2EKxiHkDsIrC",
        "colab_type": "text"
      },
      "source": [
        "### The Instructor's Defense \n",
        "\n",
        "A Berkeley Statistics class of about 350 students was divided into 12 discussion sections led by Graduate Student Instructors (GSIs). After the midterm, students in Section 3 noticed that their scores were on average lower than the rest of the class.\n",
        "\n",
        "In such situations, students tend to grumble about the section's GSI. Surely, they feel, there must have been something wrong with the GSI's teaching. Or else why would their section have done worse than others?\n",
        "\n",
        "The GSI, typically more experienced about statistical variation, often has a different perspective: if you simply draw a section of students at random from the whole class, their average score could resemble the score that the students are unhappy about, just by chance.\n",
        "\n",
        "The GSI's position is a clearly stated chance model. We can simulate data under this model. Let's test it out."
      ]
    },
    {
      "cell_type": "markdown",
      "metadata": {
        "id": "oRtLlNwTslw7",
        "colab_type": "text"
      },
      "source": [
        "**Null Hypothesis**. The average score of the students in Section 3 is like the average score of the same number of students picked at random from the class.\n",
        "\n",
        "**Alternative Hypothesis**. No, it's too low."
      ]
    },
    {
      "cell_type": "code",
      "metadata": {
        "id": "PJTURN1uou1h",
        "colab_type": "code",
        "colab": {}
      },
      "source": [
        "scores = pd.read_csv('https://raw.githubusercontent.com/dhminh1024/practice_datasets/master/scores_by_section.csv')"
      ],
      "execution_count": null,
      "outputs": []
    },
    {
      "cell_type": "markdown",
      "metadata": {
        "id": "vr8dd74Ftw2J",
        "colab_type": "text"
      },
      "source": [
        "The table scores contains the section number and midterm score for each student in the class. The midterm scores were integers in the range 0 through 25; 0 means that the student didn't take the test."
      ]
    },
    {
      "cell_type": "code",
      "metadata": {
        "id": "_05LEYNutLYA",
        "colab_type": "code",
        "colab": {
          "base_uri": "https://localhost:8080/",
          "height": 163
        },
        "outputId": "38936db2-b397-4bd2-fea6-78cb9a3ee601"
      },
      "source": [
        "scores.info()"
      ],
      "execution_count": null,
      "outputs": [
        {
          "output_type": "stream",
          "text": [
            "<class 'pandas.core.frame.DataFrame'>\n",
            "RangeIndex: 359 entries, 0 to 358\n",
            "Data columns (total 2 columns):\n",
            " #   Column   Non-Null Count  Dtype\n",
            "---  ------   --------------  -----\n",
            " 0   Section  359 non-null    int64\n",
            " 1   Midterm  359 non-null    int64\n",
            "dtypes: int64(2)\n",
            "memory usage: 5.7 KB\n"
          ],
          "name": "stdout"
        }
      ]
    },
    {
      "cell_type": "code",
      "metadata": {
        "id": "fpHk5XyeNtXs",
        "colab_type": "code",
        "colab": {
          "base_uri": "https://localhost:8080/",
          "height": 277
        },
        "outputId": "bb9780f3-c691-4a44-a00f-a201d72eb3d9"
      },
      "source": [
        "scores.describe()"
      ],
      "execution_count": null,
      "outputs": [
        {
          "output_type": "execute_result",
          "data": {
            "text/html": [
              "<div>\n",
              "<style scoped>\n",
              "    .dataframe tbody tr th:only-of-type {\n",
              "        vertical-align: middle;\n",
              "    }\n",
              "\n",
              "    .dataframe tbody tr th {\n",
              "        vertical-align: top;\n",
              "    }\n",
              "\n",
              "    .dataframe thead th {\n",
              "        text-align: right;\n",
              "    }\n",
              "</style>\n",
              "<table border=\"1\" class=\"dataframe\">\n",
              "  <thead>\n",
              "    <tr style=\"text-align: right;\">\n",
              "      <th></th>\n",
              "      <th>Section</th>\n",
              "      <th>Midterm</th>\n",
              "    </tr>\n",
              "  </thead>\n",
              "  <tbody>\n",
              "    <tr>\n",
              "      <th>count</th>\n",
              "      <td>359.000000</td>\n",
              "      <td>359.000000</td>\n",
              "    </tr>\n",
              "    <tr>\n",
              "      <th>mean</th>\n",
              "      <td>6.434540</td>\n",
              "      <td>15.493036</td>\n",
              "    </tr>\n",
              "    <tr>\n",
              "      <th>std</th>\n",
              "      <td>3.475457</td>\n",
              "      <td>6.081323</td>\n",
              "    </tr>\n",
              "    <tr>\n",
              "      <th>min</th>\n",
              "      <td>1.000000</td>\n",
              "      <td>0.000000</td>\n",
              "    </tr>\n",
              "    <tr>\n",
              "      <th>25%</th>\n",
              "      <td>3.000000</td>\n",
              "      <td>11.000000</td>\n",
              "    </tr>\n",
              "    <tr>\n",
              "      <th>50%</th>\n",
              "      <td>6.000000</td>\n",
              "      <td>16.000000</td>\n",
              "    </tr>\n",
              "    <tr>\n",
              "      <th>75%</th>\n",
              "      <td>9.500000</td>\n",
              "      <td>20.000000</td>\n",
              "    </tr>\n",
              "    <tr>\n",
              "      <th>max</th>\n",
              "      <td>12.000000</td>\n",
              "      <td>25.000000</td>\n",
              "    </tr>\n",
              "  </tbody>\n",
              "</table>\n",
              "</div>"
            ],
            "text/plain": [
              "          Section     Midterm\n",
              "count  359.000000  359.000000\n",
              "mean     6.434540   15.493036\n",
              "std      3.475457    6.081323\n",
              "min      1.000000    0.000000\n",
              "25%      3.000000   11.000000\n",
              "50%      6.000000   16.000000\n",
              "75%      9.500000   20.000000\n",
              "max     12.000000   25.000000"
            ]
          },
          "metadata": {
            "tags": []
          },
          "execution_count": 99
        }
      ]
    },
    {
      "cell_type": "markdown",
      "metadata": {
        "id": "WoYY2BXHtpYY",
        "colab_type": "text"
      },
      "source": [
        "To find the average score in each section, we will use `groupby()`.\n",
        "\n"
      ]
    },
    {
      "cell_type": "code",
      "metadata": {
        "id": "QbaQFxBvtMk-",
        "colab_type": "code",
        "colab": {
          "base_uri": "https://localhost:8080/",
          "height": 421
        },
        "outputId": "c3690253-2463-4477-fb5d-2d0841988ecf"
      },
      "source": [
        "scores.groupby('Section').mean()"
      ],
      "execution_count": null,
      "outputs": [
        {
          "output_type": "execute_result",
          "data": {
            "text/html": [
              "<div>\n",
              "<style scoped>\n",
              "    .dataframe tbody tr th:only-of-type {\n",
              "        vertical-align: middle;\n",
              "    }\n",
              "\n",
              "    .dataframe tbody tr th {\n",
              "        vertical-align: top;\n",
              "    }\n",
              "\n",
              "    .dataframe thead th {\n",
              "        text-align: right;\n",
              "    }\n",
              "</style>\n",
              "<table border=\"1\" class=\"dataframe\">\n",
              "  <thead>\n",
              "    <tr style=\"text-align: right;\">\n",
              "      <th></th>\n",
              "      <th>Midterm</th>\n",
              "    </tr>\n",
              "    <tr>\n",
              "      <th>Section</th>\n",
              "      <th></th>\n",
              "    </tr>\n",
              "  </thead>\n",
              "  <tbody>\n",
              "    <tr>\n",
              "      <th>1</th>\n",
              "      <td>15.593750</td>\n",
              "    </tr>\n",
              "    <tr>\n",
              "      <th>2</th>\n",
              "      <td>15.125000</td>\n",
              "    </tr>\n",
              "    <tr>\n",
              "      <th>3</th>\n",
              "      <td>13.666667</td>\n",
              "    </tr>\n",
              "    <tr>\n",
              "      <th>4</th>\n",
              "      <td>14.766667</td>\n",
              "    </tr>\n",
              "    <tr>\n",
              "      <th>5</th>\n",
              "      <td>17.454545</td>\n",
              "    </tr>\n",
              "    <tr>\n",
              "      <th>6</th>\n",
              "      <td>15.031250</td>\n",
              "    </tr>\n",
              "    <tr>\n",
              "      <th>7</th>\n",
              "      <td>16.625000</td>\n",
              "    </tr>\n",
              "    <tr>\n",
              "      <th>8</th>\n",
              "      <td>16.310345</td>\n",
              "    </tr>\n",
              "    <tr>\n",
              "      <th>9</th>\n",
              "      <td>14.566667</td>\n",
              "    </tr>\n",
              "    <tr>\n",
              "      <th>10</th>\n",
              "      <td>15.235294</td>\n",
              "    </tr>\n",
              "    <tr>\n",
              "      <th>11</th>\n",
              "      <td>15.807692</td>\n",
              "    </tr>\n",
              "    <tr>\n",
              "      <th>12</th>\n",
              "      <td>15.733333</td>\n",
              "    </tr>\n",
              "  </tbody>\n",
              "</table>\n",
              "</div>"
            ],
            "text/plain": [
              "           Midterm\n",
              "Section           \n",
              "1        15.593750\n",
              "2        15.125000\n",
              "3        13.666667\n",
              "4        14.766667\n",
              "5        17.454545\n",
              "6        15.031250\n",
              "7        16.625000\n",
              "8        16.310345\n",
              "9        14.566667\n",
              "10       15.235294\n",
              "11       15.807692\n",
              "12       15.733333"
            ]
          },
          "metadata": {
            "tags": []
          },
          "execution_count": 100
        }
      ]
    },
    {
      "cell_type": "markdown",
      "metadata": {
        "id": "egB3SxXRuEE7",
        "colab_type": "text"
      },
      "source": [
        "We also want to determine how many students are there in each section"
      ]
    },
    {
      "cell_type": "code",
      "metadata": {
        "id": "IppUO1CjtkfX",
        "colab_type": "code",
        "colab": {
          "base_uri": "https://localhost:8080/",
          "height": 421
        },
        "outputId": "d6ae704f-a5be-43c1-dd4f-e73783275197"
      },
      "source": [
        "scores.groupby('Section').count()"
      ],
      "execution_count": null,
      "outputs": [
        {
          "output_type": "execute_result",
          "data": {
            "text/html": [
              "<div>\n",
              "<style scoped>\n",
              "    .dataframe tbody tr th:only-of-type {\n",
              "        vertical-align: middle;\n",
              "    }\n",
              "\n",
              "    .dataframe tbody tr th {\n",
              "        vertical-align: top;\n",
              "    }\n",
              "\n",
              "    .dataframe thead th {\n",
              "        text-align: right;\n",
              "    }\n",
              "</style>\n",
              "<table border=\"1\" class=\"dataframe\">\n",
              "  <thead>\n",
              "    <tr style=\"text-align: right;\">\n",
              "      <th></th>\n",
              "      <th>Midterm</th>\n",
              "    </tr>\n",
              "    <tr>\n",
              "      <th>Section</th>\n",
              "      <th></th>\n",
              "    </tr>\n",
              "  </thead>\n",
              "  <tbody>\n",
              "    <tr>\n",
              "      <th>1</th>\n",
              "      <td>32</td>\n",
              "    </tr>\n",
              "    <tr>\n",
              "      <th>2</th>\n",
              "      <td>32</td>\n",
              "    </tr>\n",
              "    <tr>\n",
              "      <th>3</th>\n",
              "      <td>27</td>\n",
              "    </tr>\n",
              "    <tr>\n",
              "      <th>4</th>\n",
              "      <td>30</td>\n",
              "    </tr>\n",
              "    <tr>\n",
              "      <th>5</th>\n",
              "      <td>33</td>\n",
              "    </tr>\n",
              "    <tr>\n",
              "      <th>6</th>\n",
              "      <td>32</td>\n",
              "    </tr>\n",
              "    <tr>\n",
              "      <th>7</th>\n",
              "      <td>24</td>\n",
              "    </tr>\n",
              "    <tr>\n",
              "      <th>8</th>\n",
              "      <td>29</td>\n",
              "    </tr>\n",
              "    <tr>\n",
              "      <th>9</th>\n",
              "      <td>30</td>\n",
              "    </tr>\n",
              "    <tr>\n",
              "      <th>10</th>\n",
              "      <td>34</td>\n",
              "    </tr>\n",
              "    <tr>\n",
              "      <th>11</th>\n",
              "      <td>26</td>\n",
              "    </tr>\n",
              "    <tr>\n",
              "      <th>12</th>\n",
              "      <td>30</td>\n",
              "    </tr>\n",
              "  </tbody>\n",
              "</table>\n",
              "</div>"
            ],
            "text/plain": [
              "         Midterm\n",
              "Section         \n",
              "1             32\n",
              "2             32\n",
              "3             27\n",
              "4             30\n",
              "5             33\n",
              "6             32\n",
              "7             24\n",
              "8             29\n",
              "9             30\n",
              "10            34\n",
              "11            26\n",
              "12            30"
            ]
          },
          "metadata": {
            "tags": []
          },
          "execution_count": 101
        }
      ]
    },
    {
      "cell_type": "markdown",
      "metadata": {
        "id": "IX9PZwevuYNr",
        "colab_type": "text"
      },
      "source": [
        "Section 3 has 27 students. Now we can simulate our test statistic. First we have to select 27 scores at random without replacement among the scores in the data. Then we can calculate the average score of that sample. And we repeat the process multiple times."
      ]
    },
    {
      "cell_type": "code",
      "metadata": {
        "id": "plm2QnKLuNg4",
        "colab_type": "code",
        "colab": {}
      },
      "source": [
        "def random_sample_average():\n",
        "    \"\"\"Return average score of a sample of 27 students\"\"\"\n",
        "    return np.random.choice(scores['Midterm'], size=27, replace=False).mean()"
      ],
      "execution_count": null,
      "outputs": []
    },
    {
      "cell_type": "code",
      "metadata": {
        "id": "gvA_2n9uvPor",
        "colab_type": "code",
        "colab": {}
      },
      "source": [
        "sample_averages = np.array([])\n",
        "\n",
        "repetitions = 10000\n",
        "for i in range(repetitions):\n",
        "    sample_averages = np.append(sample_averages, random_sample_average())"
      ],
      "execution_count": null,
      "outputs": []
    },
    {
      "cell_type": "code",
      "metadata": {
        "id": "QRzfRo71vYhW",
        "colab_type": "code",
        "colab": {
          "base_uri": "https://localhost:8080/",
          "height": 392
        },
        "outputId": "1a58a3e1-eee7-4259-e313-7a36908b8f58"
      },
      "source": [
        "observed_statistic = 13.667\n",
        "\n",
        "# Plotting\n",
        "plt.figure(figsize=(10, 6))\n",
        "plt.hist(sample_averages, bins=20, density=True, alpha=0.5)\n",
        "plt.scatter(observed_statistic, 0, c='r', s=50)\n",
        "plt.xlabel('Count in a random sample', fontsize=16)\n",
        "plt.show()"
      ],
      "execution_count": null,
      "outputs": [
        {
          "output_type": "display_data",
          "data": {
            "image/png": "[encoded data removed]",
            "text/plain": [
              "<Figure size 720x432 with 1 Axes>"
            ]
          },
          "metadata": {
            "tags": []
          }
        }
      ]
    },
    {
      "cell_type": "markdown",
      "metadata": {
        "id": "ddYJ9dgOwcMS",
        "colab_type": "text"
      },
      "source": [
        "Is the observed statistic of 13.667 \"too low\" in relation to this distribution? In other words, is the red far enough out into the left hand tail of the histogram for you to think that it is \"too far\"?\n",
        "\n",
        "First we find how many percent of samples that are lower than the observed statistic:\n",
        "\n"
      ]
    },
    {
      "cell_type": "code",
      "metadata": {
        "id": "bkZRHa_YvjV5",
        "colab_type": "code",
        "colab": {
          "base_uri": "https://localhost:8080/",
          "height": 33
        },
        "outputId": "9d26a96c-251c-49be-d2e7-6f78a6d36353"
      },
      "source": [
        "sample_averages[sample_averages < observed_statistic].shape[0] / repetitions"
      ],
      "execution_count": null,
      "outputs": [
        {
          "output_type": "execute_result",
          "data": {
            "text/plain": [
              "0.0553"
            ]
          },
          "metadata": {
            "tags": []
          },
          "execution_count": 107
        }
      ]
    },
    {
      "cell_type": "markdown",
      "metadata": {
        "id": "lLOW6J9AxLjb",
        "colab_type": "text"
      },
      "source": [
        "About 5.7% of the simulated random sample averages were 13.667 or below. To evaluate this number, let's define some terminologies:\n",
        "\n",
        ">**Definition**: \n",
        ">\n",
        ">The **P-value** of a test is the chance, based on the model in the null hypothesis, that the test statistic will be equal to the observed value in the sample or even further in the direction that supports the alternative.\n",
        "\n",
        "If a P-value is small, that means the tail beyond the observed statistic is small and so the observed statistic is far away from what the null predicts. This implies that the data support the alternative hypothesis better than they support the null.\n",
        "\n",
        "How small is \"small\"? According to the conventions:\n",
        "\n",
        "If the P-value is less than 5%, it is considered small and the result is called **\"statistically significant.\"**\n",
        "\n",
        "If the P-value is even smaller – less than 1% – the result is called **\"highly statistically significant.\"**\n",
        "\n",
        "By this convention, our P-value of 5.7% is not considered small. So we have to conclude that the GSI's defense holds good – the average score of Section 3 is like those generated by random chance. Formally, the result of the test is not statistically significant.\n",
        "\n",
        "When you make a conclusion in this way, we recommend that you don't just say whether or not the result is statistically significant. Along with your conclusion, provide the observed statistic and the P-value as well, so that readers can use their own judgment.\n",
        "\n"
      ]
    },
    {
      "cell_type": "markdown",
      "metadata": {
        "id": "C5OWzzIqz2eu",
        "colab_type": "text"
      },
      "source": [
        "## Comparing two samples"
      ]
    },
    {
      "cell_type": "markdown",
      "metadata": {
        "id": "IkLf9_8R0HO-",
        "colab_type": "text"
      },
      "source": [
        "Often, data scientists have to compare two random samples with each other. For example, they might have to compare the outcomes of patients who have been assigned at random to a treatment group and a control group. Or they might have randomized internet users to receive two different versions of a website, after which they would want to compare the actions of the two random groups."
      ]
    },
    {
      "cell_type": "markdown",
      "metadata": {
        "id": "h0_Hvfl_0Kr5",
        "colab_type": "text"
      },
      "source": [
        "### A/B Testing"
      ]
    },
    {
      "cell_type": "markdown",
      "metadata": {
        "id": "Xja3pJnT0a94",
        "colab_type": "text"
      },
      "source": [
        "In modern data analytics, deciding whether two numerical samples come from the same underlying distribution is called A/B testing. The name refers to the labels of the two samples, A and B."
      ]
    },
    {
      "cell_type": "markdown",
      "metadata": {
        "id": "sWZYLHtG0d5u",
        "colab_type": "text"
      },
      "source": [
        "#### Smokers and Nonsmokers"
      ]
    },
    {
      "cell_type": "markdown",
      "metadata": {
        "id": "Tujt3FHg0jfQ",
        "colab_type": "text"
      },
      "source": [
        "The table births contains the following variables for 1,174 mother-baby pairs: the baby's birth weight in ounces, the number of gestational days, the mother's age in completed years, the mother's height in inches, pregnancy weight in pounds, and whether or not the mother smoked during pregnancy."
      ]
    },
    {
      "cell_type": "code",
      "metadata": {
        "id": "pbdHPogMxABW",
        "colab_type": "code",
        "colab": {}
      },
      "source": [
        "births = pd.read_csv('https://raw.githubusercontent.com/dhminh1024/practice_datasets/master/baby.csv')"
      ],
      "execution_count": null,
      "outputs": []
    },
    {
      "cell_type": "code",
      "metadata": {
        "id": "f1DS5_oq0yjx",
        "colab_type": "code",
        "colab": {
          "base_uri": "https://localhost:8080/",
          "height": 191
        },
        "outputId": "de0af1ba-5add-410c-a45b-a2bbd13765ea"
      },
      "source": [
        "births.head()"
      ],
      "execution_count": null,
      "outputs": [
        {
          "output_type": "execute_result",
          "data": {
            "text/html": [
              "<div>\n",
              "<style scoped>\n",
              "    .dataframe tbody tr th:only-of-type {\n",
              "        vertical-align: middle;\n",
              "    }\n",
              "\n",
              "    .dataframe tbody tr th {\n",
              "        vertical-align: top;\n",
              "    }\n",
              "\n",
              "    .dataframe thead th {\n",
              "        text-align: right;\n",
              "    }\n",
              "</style>\n",
              "<table border=\"1\" class=\"dataframe\">\n",
              "  <thead>\n",
              "    <tr style=\"text-align: right;\">\n",
              "      <th></th>\n",
              "      <th>Birth Weight</th>\n",
              "      <th>Gestational Days</th>\n",
              "      <th>Maternal Age</th>\n",
              "      <th>Maternal Height</th>\n",
              "      <th>Maternal Pregnancy Weight</th>\n",
              "      <th>Maternal Smoker</th>\n",
              "    </tr>\n",
              "  </thead>\n",
              "  <tbody>\n",
              "    <tr>\n",
              "      <th>0</th>\n",
              "      <td>120</td>\n",
              "      <td>284</td>\n",
              "      <td>27</td>\n",
              "      <td>62</td>\n",
              "      <td>100</td>\n",
              "      <td>False</td>\n",
              "    </tr>\n",
              "    <tr>\n",
              "      <th>1</th>\n",
              "      <td>113</td>\n",
              "      <td>282</td>\n",
              "      <td>33</td>\n",
              "      <td>64</td>\n",
              "      <td>135</td>\n",
              "      <td>False</td>\n",
              "    </tr>\n",
              "    <tr>\n",
              "      <th>2</th>\n",
              "      <td>128</td>\n",
              "      <td>279</td>\n",
              "      <td>28</td>\n",
              "      <td>64</td>\n",
              "      <td>115</td>\n",
              "      <td>True</td>\n",
              "    </tr>\n",
              "    <tr>\n",
              "      <th>3</th>\n",
              "      <td>108</td>\n",
              "      <td>282</td>\n",
              "      <td>23</td>\n",
              "      <td>67</td>\n",
              "      <td>125</td>\n",
              "      <td>True</td>\n",
              "    </tr>\n",
              "    <tr>\n",
              "      <th>4</th>\n",
              "      <td>136</td>\n",
              "      <td>286</td>\n",
              "      <td>25</td>\n",
              "      <td>62</td>\n",
              "      <td>93</td>\n",
              "      <td>False</td>\n",
              "    </tr>\n",
              "  </tbody>\n",
              "</table>\n",
              "</div>"
            ],
            "text/plain": [
              "   Birth Weight  Gestational Days  ...  Maternal Pregnancy Weight  Maternal Smoker\n",
              "0           120               284  ...                        100            False\n",
              "1           113               282  ...                        135            False\n",
              "2           128               279  ...                        115             True\n",
              "3           108               282  ...                        125             True\n",
              "4           136               286  ...                         93            False\n",
              "\n",
              "[5 rows x 6 columns]"
            ]
          },
          "metadata": {
            "tags": []
          },
          "execution_count": 111
        }
      ]
    },
    {
      "cell_type": "code",
      "metadata": {
        "id": "Ws3Gkd8N01WT",
        "colab_type": "code",
        "colab": {
          "base_uri": "https://localhost:8080/",
          "height": 76
        },
        "outputId": "187cb117-60d8-48f6-9d2d-aca651ba82a7"
      },
      "source": [
        "births[births['Maternal Age'] <= 16]"
      ],
      "execution_count": null,
      "outputs": [
        {
          "output_type": "execute_result",
          "data": {
            "text/html": [
              "<div>\n",
              "<style scoped>\n",
              "    .dataframe tbody tr th:only-of-type {\n",
              "        vertical-align: middle;\n",
              "    }\n",
              "\n",
              "    .dataframe tbody tr th {\n",
              "        vertical-align: top;\n",
              "    }\n",
              "\n",
              "    .dataframe thead th {\n",
              "        text-align: right;\n",
              "    }\n",
              "</style>\n",
              "<table border=\"1\" class=\"dataframe\">\n",
              "  <thead>\n",
              "    <tr style=\"text-align: right;\">\n",
              "      <th></th>\n",
              "      <th>Birth Weight</th>\n",
              "      <th>Gestational Days</th>\n",
              "      <th>Maternal Age</th>\n",
              "      <th>Maternal Height</th>\n",
              "      <th>Maternal Pregnancy Weight</th>\n",
              "      <th>Maternal Smoker</th>\n",
              "    </tr>\n",
              "  </thead>\n",
              "  <tbody>\n",
              "    <tr>\n",
              "      <th>469</th>\n",
              "      <td>114</td>\n",
              "      <td>283</td>\n",
              "      <td>15</td>\n",
              "      <td>64</td>\n",
              "      <td>117</td>\n",
              "      <td>True</td>\n",
              "    </tr>\n",
              "  </tbody>\n",
              "</table>\n",
              "</div>"
            ],
            "text/plain": [
              "     Birth Weight  Gestational Days  ...  Maternal Pregnancy Weight  Maternal Smoker\n",
              "469           114               283  ...                        117             True\n",
              "\n",
              "[1 rows x 6 columns]"
            ]
          },
          "metadata": {
            "tags": []
          },
          "execution_count": 115
        }
      ]
    },
    {
      "cell_type": "markdown",
      "metadata": {
        "id": "JhtWMWl907zs",
        "colab_type": "text"
      },
      "source": [
        "One of the aims of the study was to see whether maternal smoking was associated with birth weight. Let's see what we can say about the two variables."
      ]
    },
    {
      "cell_type": "code",
      "metadata": {
        "id": "R2ED6ZN-02ef",
        "colab_type": "code",
        "colab": {
          "base_uri": "https://localhost:8080/",
          "height": 327
        },
        "outputId": "a5c0122a-9bf2-4e52-b784-b688fb660854"
      },
      "source": [
        "print(births['Maternal Smoker'].value_counts())\n",
        "\n",
        "sns.countplot(births['Maternal Smoker'])\n",
        "plt.show()"
      ],
      "execution_count": null,
      "outputs": [
        {
          "output_type": "stream",
          "text": [
            "False    715\n",
            "True     459\n",
            "Name: Maternal Smoker, dtype: int64\n"
          ],
          "name": "stdout"
        },
        {
          "output_type": "display_data",
          "data": {
            "image/png": "[encoded data removed]",
            "text/plain": [
              "<Figure size 432x288 with 1 Axes>"
            ]
          },
          "metadata": {
            "tags": []
          }
        }
      ]
    },
    {
      "cell_type": "markdown",
      "metadata": {
        "id": "9z_A2ZxU2pNq",
        "colab_type": "text"
      },
      "source": [
        "Let's look at the distribution of the birth weights of the babies of the non-smoking mothers compared to those of the smoking mothers. To generate two overlaid histograms, we will use `hist` with the optional group argument which is a column label or index. The rows of the table are first grouped by this column and then a histogram is drawn for each one."
      ]
    },
    {
      "cell_type": "code",
      "metadata": {
        "id": "2Iu0BeTk1BjP",
        "colab_type": "code",
        "colab": {
          "base_uri": "https://localhost:8080/",
          "height": 387
        },
        "outputId": "08dd4d1d-aa75-47d1-cb61-30da729372d7"
      },
      "source": [
        "plt.figure(figsize=(10, 6))\n",
        "\n",
        "plt.hist(births[births['Maternal Smoker']==True]['Birth Weight'], label='Smoker', \n",
        "         alpha=0.5, bins=10, density=True)\n",
        "plt.hist(births[births['Maternal Smoker']==False]['Birth Weight'], label='Nonsmoker', \n",
        "         alpha=0.5, bins=10, density=True)\n",
        "plt.legend()\n",
        "plt.xlabel('Birth Weight')\n",
        "plt.show()"
      ],
      "execution_count": null,
      "outputs": [
        {
          "output_type": "display_data",
          "data": {
            "image/png": "[encoded data removed]",
            "text/plain": [
              "<Figure size 720x432 with 1 Axes>"
            ]
          },
          "metadata": {
            "tags": []
          }
        }
      ]
    },
    {
      "cell_type": "markdown",
      "metadata": {
        "id": "vUoa2IS_4AFe",
        "colab_type": "text"
      },
      "source": [
        "The distribution of the weights of the babies born to mothers who smoked appears to be based slightly to the left of the distribution corresponding to non-smoking mothers. The weights of the babies of the mothers who smoked seem lower on average than the weights of the babies of the non-smokers.\n",
        "\n",
        "This raises the question of whether the difference reflects just chance variation or a difference in the distributions in the larger population. Could it be that there is no difference between the two distributions in the population, but we are seeing a difference in the samples just because of the mothers who happened to be selected?\n",
        "\n"
      ]
    },
    {
      "cell_type": "markdown",
      "metadata": {
        "id": "dIW708Ho4It8",
        "colab_type": "text"
      },
      "source": [
        "We can try to answer this question by a test of hypotheses.\n",
        "\n",
        "**Null hypothesis:** In the population, the distribution of birth weights of babies is the same for mothers who don't smoke as for mothers who do. The difference in the sample is due to chance.\n",
        "\n",
        "**Alternative hypothesis:** In the population, the babies of the mothers who smoke have a lower birth weight, on average, than the babies of the non-smokers.\n",
        "\n",
        "The alternative hypothesis compares the average birth weights of the two groups and says that the average for the mothers who smoke is smaller. Therefore it is reasonable for us to use the difference between the two group means as our statistic.\n",
        "\n",
        "We will do the subtraction in the order \"average weight of the smoking group minus average weight of the non-smoking group\". Small values (that is, large negative values) of this statistic will favor the alternative hypothesis.\n",
        "\n"
      ]
    },
    {
      "cell_type": "code",
      "metadata": {
        "id": "b1B5mPZC3ini",
        "colab_type": "code",
        "colab": {
          "base_uri": "https://localhost:8080/",
          "height": 82
        },
        "outputId": "3d67cfa3-364d-4eb5-e7d3-c625422b9fea"
      },
      "source": [
        "mean_weights = births.groupby('Maternal Smoker')['Birth Weight'].mean()\n",
        "mean_weights"
      ],
      "execution_count": null,
      "outputs": [
        {
          "output_type": "execute_result",
          "data": {
            "text/plain": [
              "Maternal Smoker\n",
              "False    123.085315\n",
              "True     113.819172\n",
              "Name: Birth Weight, dtype: float64"
            ]
          },
          "metadata": {
            "tags": []
          },
          "execution_count": 127
        }
      ]
    },
    {
      "cell_type": "code",
      "metadata": {
        "id": "JOtRrdpI4v0Y",
        "colab_type": "code",
        "colab": {
          "base_uri": "https://localhost:8080/",
          "height": 33
        },
        "outputId": "eb62cd79-4319-4970-b3c8-dba78925cecb"
      },
      "source": [
        "observed_difference = mean_weights[1] - mean_weights[0]\n",
        "print('The observed value of the test statistic:', observed_difference)"
      ],
      "execution_count": null,
      "outputs": [
        {
          "output_type": "stream",
          "text": [
            "The observed value of the test statistic: -9.266142572024918\n"
          ],
          "name": "stdout"
        }
      ]
    },
    {
      "cell_type": "markdown",
      "metadata": {
        "id": "bxi8-SpK552g",
        "colab_type": "text"
      },
      "source": [
        "**Predicting the Statistic Under the Null Hypothesis**\n",
        "\n",
        "To see how the statistic should vary under the null hypothesis, we have to figure out how to simulate the statistic under that hypothesis. A clever method based on random permutations does just that.\n",
        "\n",
        "If there were no difference between the two distributions in the underlying population, then whether a birth weight has the label True or False with respect to maternal smoking should make no difference to the average. The idea, then, is to shuffle all the labels randomly among the mothers. This is called random permutation.\n",
        "\n",
        "Take the difference of the two new group means: the mean weight of the babies whose mothers have been randomly labeled smokers and the mean weight of the babies of the remaining mothers who have all been randomly labeled non-smokers. This is a simulated value of the test statistic under the null hypothesis."
      ]
    },
    {
      "cell_type": "code",
      "metadata": {
        "id": "tqtdAXSc6IIx",
        "colab_type": "code",
        "colab": {}
      },
      "source": [
        "births['Shuffled Label'] = np.random.choice(births['Maternal Smoker'].to_numpy(), size=births.shape[0], replace=False)"
      ],
      "execution_count": null,
      "outputs": []
    },
    {
      "cell_type": "code",
      "metadata": {
        "id": "JAyIoilj6hJJ",
        "colab_type": "code",
        "colab": {
          "base_uri": "https://localhost:8080/",
          "height": 191
        },
        "outputId": "b3602bff-f32f-4d37-cb53-14d620ad9cb0"
      },
      "source": [
        "births[['Maternal Smoker', 'Birth Weight', 'Shuffled Label']].head()"
      ],
      "execution_count": null,
      "outputs": [
        {
          "output_type": "execute_result",
          "data": {
            "text/html": [
              "<div>\n",
              "<style scoped>\n",
              "    .dataframe tbody tr th:only-of-type {\n",
              "        vertical-align: middle;\n",
              "    }\n",
              "\n",
              "    .dataframe tbody tr th {\n",
              "        vertical-align: top;\n",
              "    }\n",
              "\n",
              "    .dataframe thead th {\n",
              "        text-align: right;\n",
              "    }\n",
              "</style>\n",
              "<table border=\"1\" class=\"dataframe\">\n",
              "  <thead>\n",
              "    <tr style=\"text-align: right;\">\n",
              "      <th></th>\n",
              "      <th>Maternal Smoker</th>\n",
              "      <th>Birth Weight</th>\n",
              "      <th>Shuffled Label</th>\n",
              "    </tr>\n",
              "  </thead>\n",
              "  <tbody>\n",
              "    <tr>\n",
              "      <th>0</th>\n",
              "      <td>False</td>\n",
              "      <td>120</td>\n",
              "      <td>False</td>\n",
              "    </tr>\n",
              "    <tr>\n",
              "      <th>1</th>\n",
              "      <td>False</td>\n",
              "      <td>113</td>\n",
              "      <td>True</td>\n",
              "    </tr>\n",
              "    <tr>\n",
              "      <th>2</th>\n",
              "      <td>True</td>\n",
              "      <td>128</td>\n",
              "      <td>False</td>\n",
              "    </tr>\n",
              "    <tr>\n",
              "      <th>3</th>\n",
              "      <td>True</td>\n",
              "      <td>108</td>\n",
              "      <td>True</td>\n",
              "    </tr>\n",
              "    <tr>\n",
              "      <th>4</th>\n",
              "      <td>False</td>\n",
              "      <td>136</td>\n",
              "      <td>True</td>\n",
              "    </tr>\n",
              "  </tbody>\n",
              "</table>\n",
              "</div>"
            ],
            "text/plain": [
              "   Maternal Smoker  Birth Weight  Shuffled Label\n",
              "0            False           120           False\n",
              "1            False           113            True\n",
              "2             True           128           False\n",
              "3             True           108            True\n",
              "4            False           136            True"
            ]
          },
          "metadata": {
            "tags": []
          },
          "execution_count": 125
        }
      ]
    },
    {
      "cell_type": "markdown",
      "metadata": {
        "id": "9yzdTjnP7D-0",
        "colab_type": "text"
      },
      "source": [
        "Each baby's mother now has a random smoker/non-smoker label in the column Shuffled Label, while her original label is in Maternal Smoker. If the null hypothesis is true, all the random re-arrangements of the labels should be equally likely.\n",
        "\n",
        "Let's see how different the average weights are in the two randomly labeled groups."
      ]
    },
    {
      "cell_type": "code",
      "metadata": {
        "id": "HHg2ECl-628j",
        "colab_type": "code",
        "colab": {}
      },
      "source": [
        "mean_shuffled = births.groupby('Shuffled Label')['Birth Weight'].mean()\n",
        "mean_shuffled"
      ],
      "execution_count": null,
      "outputs": []
    },
    {
      "cell_type": "code",
      "metadata": {
        "id": "23kWNBKm7Swe",
        "colab_type": "code",
        "colab": {}
      },
      "source": [
        "print('The different between the average weights in the two randomly labeled groups.:', \n",
        "      mean_shuffled[1]-mean_shuffled[0])"
      ],
      "execution_count": null,
      "outputs": []
    },
    {
      "cell_type": "markdown",
      "metadata": {
        "id": "E-u61XLd7626",
        "colab_type": "text"
      },
      "source": [
        "As always, we will define a function that simulates one value of the test statistic under the null hypothesis. This is just a matter of collecting the code that we wrote above. But because we will later want to use the same process for comparing means of other variables, we will define a function that takes three arguments:\n",
        "\n",
        "* the name of the table of data\n",
        "* the label of the column that contains the numerical variable\n",
        "* the label of the column that contains the Boolean variable for grouping\n",
        "\n",
        "It returns the difference between the means of two groups formed by randomly shuffling all the labels."
      ]
    },
    {
      "cell_type": "code",
      "metadata": {
        "id": "1IKJK9EU7vSc",
        "colab_type": "code",
        "colab": {}
      },
      "source": [
        "def one_simulated_difference():\n",
        "    \"\"\"Return the difference between the means of two groups formed by randomly shuffling all the labels\"\"\"\n",
        "    births['Shuffled Label'] = np.random.choice(births['Maternal Smoker'].to_numpy(), \n",
        "                                                size=births.shape[0], replace=False)\n",
        "    mean_shuffled = births.groupby('Shuffled Label')['Birth Weight'].mean()\n",
        "    return mean_shuffled[1]-mean_shuffled[0] "
      ],
      "execution_count": null,
      "outputs": []
    },
    {
      "cell_type": "markdown",
      "metadata": {
        "id": "Z0eruMzK8Pkp",
        "colab_type": "text"
      },
      "source": [
        "**Permutation Test**\n",
        "\n",
        "Tests based on random permutations of the data are called permutation tests. We are performing one in this example. In the cell below, we will simulate our test statistic – the difference between the averages of the two groups – many times and collect the differences in an array."
      ]
    },
    {
      "cell_type": "code",
      "metadata": {
        "id": "uFb4K4jg8RYl",
        "colab_type": "code",
        "colab": {}
      },
      "source": [
        "differences = np.array([])\n",
        "\n",
        "repetitions = 5000\n",
        "for i in np.arange(repetitions):\n",
        "    new_difference = one_simulated_difference()\n",
        "    differences = np.append(differences, new_difference)                               "
      ],
      "execution_count": null,
      "outputs": []
    },
    {
      "cell_type": "code",
      "metadata": {
        "id": "7lHqIg2q9Eeh",
        "colab_type": "code",
        "colab": {
          "base_uri": "https://localhost:8080/",
          "height": 413
        },
        "outputId": "b1c9c832-8cc9-4d35-864d-e4d87cabb03c"
      },
      "source": [
        "# Plotting\n",
        "plt.figure(figsize=(10, 6))\n",
        "plt.hist(differences, density=True)\n",
        "plt.title('Simulation under the Null Hypothesis', fontsize=20)\n",
        "plt.xlabel('Difference Between Group Means', fontsize=16)\n",
        "plt.show()\n"
      ],
      "execution_count": null,
      "outputs": [
        {
          "output_type": "display_data",
          "data": {
            "image/png": "[encoded data removed]",
            "text/plain": [
              "<Figure size 720x432 with 1 Axes>"
            ]
          },
          "metadata": {
            "tags": []
          }
        }
      ]
    },
    {
      "cell_type": "code",
      "metadata": {
        "id": "K70CzpLQ9fNh",
        "colab_type": "code",
        "colab": {
          "base_uri": "https://localhost:8080/",
          "height": 33
        },
        "outputId": "5b37ef48-ad3f-4c86-ef4b-3453661eef97"
      },
      "source": [
        "empirical_P = 100 * (differences <= observed_difference).sum() / repetitions \n",
        "print('P value:', empirical_P)"
      ],
      "execution_count": null,
      "outputs": [
        {
          "output_type": "stream",
          "text": [
            "P value: 0.0\n"
          ],
          "name": "stdout"
        }
      ]
    },
    {
      "cell_type": "markdown",
      "metadata": {
        "id": "XC94nbaA-OHe",
        "colab_type": "text"
      },
      "source": [
        "The empirical P-value is 0, meaning that none of the 5,000 permuted samples resulted in a difference of -9.27 or lower.\n",
        "\n",
        "The conclusion of the test is that the data favor the alternative over the null. The average birth weight of babies born to mothers who smoke is less than the average birth weight of babies born to non-smokers."
      ]
    },
    {
      "cell_type": "code",
      "metadata": {
        "id": "MHYzuN6h-Kdv",
        "colab_type": "code",
        "colab": {}
      },
      "source": [
        ""
      ],
      "execution_count": null,
      "outputs": []
    }
  ]
}